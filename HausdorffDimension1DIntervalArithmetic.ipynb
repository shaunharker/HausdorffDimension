{
 "cells": [
  {
   "cell_type": "code",
   "execution_count": 1,
   "metadata": {
    "collapsed": true
   },
   "outputs": [],
   "source": [
    "import math\n",
    "import datetime\n",
    "from memoize import *"
   ]
  },
  {
   "cell_type": "code",
   "execution_count": 2,
   "metadata": {
    "collapsed": true
   },
   "outputs": [],
   "source": [
    "from mpmath import iv, mpf  # interval arithmetic, multiprecision float\n",
    "iv.dps = 128 # digits of precision\n",
    "iv.pretty = True # Make it print interval enclosures nicely\n",
    "Interval = iv.mpf\n",
    "Exp = iv.exp"
   ]
  },
  {
   "cell_type": "code",
   "execution_count": 3,
   "metadata": {
    "collapsed": true
   },
   "outputs": [],
   "source": [
    "def Time():\n",
    "    print(str(datetime.datetime.now()))"
   ]
  },
  {
   "cell_type": "code",
   "execution_count": 4,
   "metadata": {
    "collapsed": false
   },
   "outputs": [],
   "source": [
    "class ContinuedFractionSystem:\n",
    "    \n",
    "    def __init__(self, knots, alphabet):\n",
    "        self.knots = [ Interval(knot) for knot in knots]\n",
    "        self.alphabet = [ Interval(x) for x in alphabet ]\n",
    "        self.gamma = min(self.alphabet)\n",
    "        \n",
    "    @memoize\n",
    "    def ContinuedFraction(self, x, m):\n",
    "        return 1.0/(x + m)\n",
    "    \n",
    "    @memoize\n",
    "    def ContinuedFractionDerivative(self, x, m):\n",
    "        return -1.0/((x+m)**2.0)\n",
    "    \n",
    "    @memoize\n",
    "    def BoundaryKnots(self, x):\n",
    "        a = max([ knot for knot in self.knots if knot <= x ])\n",
    "        b = min([ knot for knot in self.knots if knot >= x ])\n",
    "        ai = self.knots.index(a)\n",
    "        bi = self.knots.index(b)\n",
    "        return (a,b,ai,bi)\n",
    "    \n",
    "    def Interpolate(self, v, x):\n",
    "        (a,b,ai,bi) = self.BoundaryKnots(x)\n",
    "        if ai == bi:\n",
    "            return v[ai]\n",
    "        return ((b-x)*v[ai] + (x-a)*v[bi])/(b-a)\n",
    "    \n",
    "    @memoize\n",
    "    def LowerBoundError(self, s, x, m):\n",
    "        # Formula on middle of page 8\n",
    "        theta = self.ContinuedFraction(x,m)\n",
    "        (a,b,ai,bi) = self.BoundaryKnots(theta)\n",
    "        return (b-theta)*(theta-a)*s*(2.0*s + 1.0)*Exp(2.0*s*(b-a)/self.gamma)/(self.gamma**2.0)\n",
    "    \n",
    "    @memoize\n",
    "    def LowerCoefficients(self, s):\n",
    "        return [ [ (abs(self.ContinuedFractionDerivative(x,m))**s) * (1.0 - self.LowerBoundError(s,x,m)) for m in self.alphabet ] for x in self.knots]\n",
    "\n",
    "    def Lower(self, v, s):\n",
    "        coefficients = self.LowerCoefficients(s)\n",
    "        return [ sum( [coefficients[i][j] * self.Interpolate(v, self.ContinuedFraction(x,m)) \\\n",
    "                       for (j,m) in enumerate(self.alphabet)]) for (i,x) in enumerate(self.knots)]\n",
    "    \n",
    "    @memoize\n",
    "    def UpperCoefficients(self, s):\n",
    "        return [ [ abs(self.ContinuedFractionDerivative(x,m))**s for m in self.alphabet ] for x in self.knots]\n",
    "    \n",
    "    def Upper(self, v, s):\n",
    "        coefficients = self.UpperCoefficients(s)\n",
    "        return [ sum( [coefficients[i][j] * self.Interpolate(v, self.ContinuedFraction(x,m)) \\\n",
    "                       for (j,m) in enumerate(self.alphabet)]) for (i,x) in enumerate(self.knots)]"
   ]
  },
  {
   "cell_type": "code",
   "execution_count": 5,
   "metadata": {
    "collapsed": true
   },
   "outputs": [],
   "source": [
    "def norm(v):\n",
    "    return sum([ abs(x) for x in v])"
   ]
  },
  {
   "cell_type": "code",
   "execution_count": 6,
   "metadata": {
    "collapsed": true
   },
   "outputs": [],
   "source": [
    "def normalize(v):\n",
    "    k = norm(v)\n",
    "    return [ x/k for x in v ]"
   ]
  },
  {
   "cell_type": "code",
   "execution_count": 7,
   "metadata": {
    "collapsed": true
   },
   "outputs": [],
   "source": [
    "def IsContractive(x0, F, tol=Interval(1e-16)):\n",
    "    N = len(x0)\n",
    "    while 1:\n",
    "        #print(\"Iterating with x0 = \" + str(x0))\n",
    "        x = F(x0)\n",
    "        if all( x[i] < x0[i] for i in range(0,N) ):\n",
    "            return (\"Contractive\", x0)\n",
    "        if all( x[i] > x0[i] for i in range(0,N) ):\n",
    "            return (\"Not Contractive\", x0)\n",
    "        if all( abs(x[i] - x0[i]) < tol for i in range(0,N) ):\n",
    "            return (\"Undetermined\", x0)\n",
    "        x0 = normalize(x)"
   ]
  },
  {
   "cell_type": "code",
   "execution_count": 8,
   "metadata": {
    "collapsed": false
   },
   "outputs": [],
   "source": [
    "def HausdorffDimensionBounds(continued_fraction_system):\n",
    "    Lower = continued_fraction_system.Lower\n",
    "    Upper = continued_fraction_system.Upper\n",
    "    N = len(continued_fraction_system.knots)\n",
    "    def BisectionSearch(F):\n",
    "        def FIsContractive(s, x0 = None):\n",
    "            if x0 == None:\n",
    "                x0 = [Interval(1) for i in range(0, N)]\n",
    "            return IsContractive(x0, lambda x : F(x, s))\n",
    "        bottom = Interval(0.0)\n",
    "        top = Interval(1.0)\n",
    "        point = None\n",
    "        while 1:\n",
    "            s = (top + bottom)/2.0\n",
    "            (status, point) = FIsContractive(s, point)\n",
    "            if status == \"Contractive\":\n",
    "                top = s\n",
    "            elif status == \"Not Contractive\":\n",
    "                bottom = s\n",
    "            elif status == \"Undetermined\":\n",
    "                break\n",
    "            print(Interval([bottom.a,top.b]))\n",
    "        return Interval([bottom.a,top.b])\n",
    "    lower_interval = BisectionSearch(Lower)\n",
    "    upper_interval = BisectionSearch(Upper)\n",
    "    print(\"Lower interval = \" + str(lower_interval))\n",
    "    print(\"Upper interval = \" + str(upper_interval))\n",
    "    return Interval([lower_interval.a, upper_interval.b])"
   ]
  },
  {
   "cell_type": "code",
   "execution_count": 9,
   "metadata": {
    "collapsed": false
   },
   "outputs": [],
   "source": [
    "N = 10000\n",
    "knots = [ Interval(i)/Interval(N) for i in range(0,N+1) ]\n",
    "alphabet = [1,2]\n",
    "continued_fraction_system = ContinuedFractionSystem(knots,alphabet)"
   ]
  },
  {
   "cell_type": "code",
   "execution_count": 10,
   "metadata": {
    "collapsed": false
   },
   "outputs": [
    {
     "name": "stdout",
     "output_type": "stream",
     "text": [
      "2017-04-04 02:59:41.427294\n",
      "[0.5, 1.0]\n",
      "[0.5, 0.75]\n",
      "[0.5, 0.625]\n",
      "[0.5, 0.5625]\n",
      "[0.53125, 0.5625]\n",
      "[0.53125, 0.546875]\n",
      "[0.53125, 0.5390625]\n",
      "[0.53125, 0.53515625]\n",
      "[0.53125, 0.533203125]\n",
      "[0.53125, 0.5322265625]\n",
      "[0.53125, 0.53173828125]\n",
      "[0.53125, 0.531494140625]\n",
      "[0.53125, 0.5313720703125]\n",
      "[0.53125, 0.53131103515625]\n",
      "[0.53125, 0.531280517578125]\n",
      "[0.5312652587890625, 0.531280517578125]\n",
      "[0.53127288818359375, 0.531280517578125]\n",
      "[0.531276702880859375, 0.531280517578125]\n",
      "[0.5312786102294921875, 0.531280517578125]\n",
      "[0.53127956390380859375, 0.531280517578125]\n",
      "[0.531280040740966796875, 0.531280517578125]\n",
      "[0.5312802791595458984375, 0.531280517578125]\n",
      "[0.53128039836883544921875, 0.531280517578125]\n",
      "[0.531280457973480224609375, 0.531280517578125]\n",
      "[0.5312804877758026123046875, 0.531280517578125]\n",
      "[0.53128050267696380615234375, 0.531280517578125]\n",
      "[0.53128050267696380615234375, 0.531280510127544403076171875]\n",
      "[0.53128050267696380615234375, 0.5312805064022541046142578125]\n",
      "[0.53128050453960895538330078125, 0.5312805064022541046142578125]\n",
      "[0.53128050453960895538330078125, 0.531280505470931529998779296875]\n",
      "[0.5312805050052702426910400390625, 0.531280505470931529998779296875]\n",
      "[0.5312805050052702426910400390625, 0.53128050523810088634490966796875]\n",
      "[0.5312805050052702426910400390625, 0.531280505121685564517974853515625]\n",
      "[0.5312805050634779036045074462890625, 0.531280505121685564517974853515625]\n",
      "[0.53128050509258173406124114990234375, 0.531280505121685564517974853515625]\n",
      "[0.53128050509258173406124114990234375, 0.531280505107133649289608001708984375]\n",
      "[0.5, 1.0]\n",
      "[0.5, 0.75]\n",
      "[0.5, 0.625]\n",
      "[0.5, 0.5625]\n",
      "[0.53125, 0.5625]\n",
      "[0.53125, 0.546875]\n",
      "[0.53125, 0.5390625]\n",
      "[0.53125, 0.53515625]\n",
      "[0.53125, 0.533203125]\n",
      "[0.53125, 0.5322265625]\n",
      "[0.53125, 0.53173828125]\n",
      "[0.53125, 0.531494140625]\n",
      "[0.53125, 0.5313720703125]\n",
      "[0.53125, 0.53131103515625]\n",
      "[0.53125, 0.531280517578125]\n",
      "[0.5312652587890625, 0.531280517578125]\n",
      "[0.53127288818359375, 0.531280517578125]\n",
      "[0.531276702880859375, 0.531280517578125]\n",
      "[0.5312786102294921875, 0.531280517578125]\n",
      "[0.53127956390380859375, 0.531280517578125]\n",
      "[0.531280040740966796875, 0.531280517578125]\n",
      "[0.5312802791595458984375, 0.531280517578125]\n",
      "[0.53128039836883544921875, 0.531280517578125]\n",
      "[0.531280457973480224609375, 0.531280517578125]\n",
      "[0.5312804877758026123046875, 0.531280517578125]\n",
      "[0.53128050267696380615234375, 0.531280517578125]\n",
      "[0.53128050267696380615234375, 0.531280510127544403076171875]\n",
      "[0.5312805064022541046142578125, 0.531280510127544403076171875]\n",
      "[0.5312805064022541046142578125, 0.53128050826489925384521484375]\n",
      "[0.5312805064022541046142578125, 0.531280507333576679229736328125]\n",
      "[0.5312805064022541046142578125, 0.5312805068679153919219970703125]\n",
      "[0.5312805064022541046142578125, 0.53128050663508474826812744140625]\n",
      "[0.531280506518669426441192626953125, 0.53128050663508474826812744140625]\n",
      "[0.531280506518669426441192626953125, 0.5312805065768770873546600341796875]\n",
      "[0.531280506518669426441192626953125, 0.53128050654777325689792633056640625]\n",
      "[0.531280506533221341669559478759765625, 0.53128050654777325689792633056640625]\n",
      "[0.531280506533221341669559478759765625, 0.5312805065404972992837429046630859375]\n",
      "[0.53128050653685932047665119171142578125, 0.5312805065404972992837429046630859375]\n",
      "[0.531280506538678309880197048187255859375, 0.5312805065404972992837429046630859375]\n",
      "Lower interval = [0.53128050509258173406124114990234375, 0.531280505107133649289608001708984375]\n",
      "Upper interval = [0.531280506538678309880197048187255859375, 0.5312805065404972992837429046630859375]\n",
      "[0.53128050509258173406124114990234375, 0.5312805065404972992837429046630859375]\n",
      "2017-04-04 03:43:59.140824\n"
     ]
    }
   ],
   "source": [
    "Time()\n",
    "print(HausdorffDimensionBounds(continued_fraction_system))\n",
    "Time()"
   ]
  }
 ],
 "metadata": {
  "kernelspec": {
   "display_name": "Python 2",
   "language": "python",
   "name": "python2"
  },
  "language_info": {
   "codemirror_mode": {
    "name": "ipython",
    "version": 2
   },
   "file_extension": ".py",
   "mimetype": "text/x-python",
   "name": "python",
   "nbconvert_exporter": "python",
   "pygments_lexer": "ipython2",
   "version": "2.7.13"
  }
 },
 "nbformat": 4,
 "nbformat_minor": 2
}
