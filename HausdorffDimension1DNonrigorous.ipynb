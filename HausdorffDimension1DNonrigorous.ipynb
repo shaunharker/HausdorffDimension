{
 "cells": [
  {
   "cell_type": "code",
   "execution_count": 1,
   "metadata": {
    "collapsed": true
   },
   "outputs": [],
   "source": [
    "import math\n",
    "import datetime\n",
    "from memoize import *"
   ]
  },
  {
   "cell_type": "code",
   "execution_count": 2,
   "metadata": {
    "collapsed": true
   },
   "outputs": [],
   "source": [
    "def Time():\n",
    "    print(str(datetime.datetime.now()))"
   ]
  },
  {
   "cell_type": "code",
   "execution_count": 3,
   "metadata": {
    "collapsed": false
   },
   "outputs": [],
   "source": [
    "class ContinuedFractionSystem:\n",
    "    \n",
    "    def __init__(self, knots, alphabet):\n",
    "        self.knots = knots\n",
    "        self.alphabet = [ float(x) for x in alphabet ]\n",
    "        self.gamma = min(self.alphabet)\n",
    "        \n",
    "    @memoize\n",
    "    def ContinuedFraction(self, x, m):\n",
    "        return 1.0/(x + m)\n",
    "    \n",
    "    @memoize\n",
    "    def ContinuedFractionDerivative(self, x, m):\n",
    "        return -1.0/((x+m)**2.0)\n",
    "    \n",
    "    @memoize\n",
    "    def BoundaryKnots(self, x):\n",
    "        a = max([ knot for knot in self.knots if knot <= x ])\n",
    "        b = min([ knot for knot in self.knots if knot >= x ])\n",
    "        ai = self.knots.index(a)\n",
    "        bi = self.knots.index(b)\n",
    "        return (a,b,ai,bi)\n",
    "    \n",
    "    def Interpolate(self, v, x):\n",
    "        (a,b,ai,bi) = self.BoundaryKnots(x)\n",
    "        if ai == bi:\n",
    "            return v[ai]\n",
    "        return ((b-x)*v[ai] + (x-a)*v[bi])/(b-a)\n",
    "    \n",
    "    @memoize\n",
    "    def LowerBoundError(self, s, x, m):\n",
    "        # Formula on middle of page 8\n",
    "        theta = self.ContinuedFraction(x,m)\n",
    "        (a,b,ai,bi) = self.BoundaryKnots(theta)\n",
    "        return (b-theta)*(theta-a)*s*(2.0*s + 1.0)*math.exp(2.0*s*(b-a)/self.gamma)/(self.gamma**2.0)\n",
    "    \n",
    "    @memoize\n",
    "    def LowerCoefficients(self, s):\n",
    "        return [ [ (abs(self.ContinuedFractionDerivative(x,m))**s) * (1.0 - self.LowerBoundError(s,x,m)) for m in self.alphabet ] for x in self.knots]\n",
    "\n",
    "    def Lower(self, v, s):\n",
    "        coefficients = self.LowerCoefficients(s)\n",
    "        return [ sum( [coefficients[i][j] * self.Interpolate(v, self.ContinuedFraction(x,m)) \\\n",
    "                       for (j,m) in enumerate(self.alphabet)]) for (i,x) in enumerate(self.knots)]\n",
    "    \n",
    "    @memoize\n",
    "    def UpperCoefficients(self, s):\n",
    "        return [ [ abs(self.ContinuedFractionDerivative(x,m))**s for m in self.alphabet ] for x in self.knots]\n",
    "    \n",
    "    def Upper(self, v, s):\n",
    "        coefficients = self.UpperCoefficients(s)\n",
    "        return [ sum( [coefficients[i][j] * self.Interpolate(v, self.ContinuedFraction(x,m)) \\\n",
    "                       for (j,m) in enumerate(self.alphabet)]) for (i,x) in enumerate(self.knots)]"
   ]
  },
  {
   "cell_type": "code",
   "execution_count": 4,
   "metadata": {
    "collapsed": true
   },
   "outputs": [],
   "source": [
    "def norm(v):\n",
    "    return sum([ abs(x) for x in v])"
   ]
  },
  {
   "cell_type": "code",
   "execution_count": 5,
   "metadata": {
    "collapsed": true
   },
   "outputs": [],
   "source": [
    "def normalize(v):\n",
    "    k = norm(v)\n",
    "    return [ x/k for x in v ]"
   ]
  },
  {
   "cell_type": "code",
   "execution_count": 6,
   "metadata": {
    "collapsed": true
   },
   "outputs": [],
   "source": [
    "def IsContractive(x0, F, tol=1E-16):\n",
    "    N = len(x0)\n",
    "    while 1:\n",
    "        x = F(x0)\n",
    "        if all( x[i] < x0[i] for i in range(0,N) ):\n",
    "            return (\"Contractive\", x0)\n",
    "        if all( x[i] > x0[i] for i in range(0,N) ):\n",
    "            return (\"Not Contractive\", x0)\n",
    "        if all( abs(x[i] - x0[i]) < tol for i in range(0,N) ):\n",
    "            return (\"Undetermined\", x0)\n",
    "        x0 = normalize(x)"
   ]
  },
  {
   "cell_type": "code",
   "execution_count": 7,
   "metadata": {
    "collapsed": false
   },
   "outputs": [],
   "source": [
    "def HausdorffDimensionBounds(continued_fraction_system):\n",
    "    Lower = continued_fraction_system.Lower\n",
    "    Upper = continued_fraction_system.Upper\n",
    "    N = len(continued_fraction_system.knots)\n",
    "    def BisectionSearch(F):\n",
    "        def FIsContractive(s, x0 = None):\n",
    "            if x0 == None:\n",
    "                x0 = [1 for i in range(0, N)]\n",
    "            return IsContractive(x0, lambda x : F(x, s))\n",
    "        bottom = 0.0\n",
    "        top = 1.0\n",
    "        point = None\n",
    "        while 1:\n",
    "            s = (top + bottom)/2.0\n",
    "            (status, point) = FIsContractive(s, point)\n",
    "            if status == \"Contractive\":\n",
    "                top = s\n",
    "            elif status == \"Not Contractive\":\n",
    "                bottom = s\n",
    "            elif status == \"Undetermined\":\n",
    "                break\n",
    "            #print((bottom,top))\n",
    "        return (bottom,top)\n",
    "    lower_interval = BisectionSearch(Lower)\n",
    "    upper_interval = BisectionSearch(Upper)\n",
    "    #print(\"Lower interval = \" + str(lower_interval))\n",
    "    #print(\"Upper interval = \" + str(upper_interval))\n",
    "    return (lower_interval[0], upper_interval[1])"
   ]
  },
  {
   "cell_type": "code",
   "execution_count": 8,
   "metadata": {
    "collapsed": false
   },
   "outputs": [],
   "source": [
    "N = 10000\n",
    "knots = [ float(i)/float(N) for i in range(0,N+1) ]\n",
    "alphabet = [1.0,2.0]\n",
    "continued_fraction_system = ContinuedFractionSystem(knots,alphabet)"
   ]
  },
  {
   "cell_type": "code",
   "execution_count": 9,
   "metadata": {
    "collapsed": false
   },
   "outputs": [
    {
     "name": "stdout",
     "output_type": "stream",
     "text": [
      "2017-04-04 11:57:38.354640\n",
      "(0.5312805050925817, 0.5312805065404973)\n",
      "2017-04-04 11:58:29.846697\n"
     ]
    }
   ],
   "source": [
    "Time()\n",
    "print(HausdorffDimensionBounds(continued_fraction_system))\n",
    "Time()"
   ]
  },
  {
   "cell_type": "code",
   "execution_count": null,
   "metadata": {
    "collapsed": true
   },
   "outputs": [],
   "source": []
  }
 ],
 "metadata": {
  "kernelspec": {
   "display_name": "Python 2",
   "language": "python",
   "name": "python2"
  },
  "language_info": {
   "codemirror_mode": {
    "name": "ipython",
    "version": 2
   },
   "file_extension": ".py",
   "mimetype": "text/x-python",
   "name": "python",
   "nbconvert_exporter": "python",
   "pygments_lexer": "ipython2",
   "version": "2.7.13"
  }
 },
 "nbformat": 4,
 "nbformat_minor": 2
}
